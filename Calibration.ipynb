{
 "cells": [
  {
   "cell_type": "code",
   "execution_count": null,
   "metadata": {},
   "outputs": [],
   "source": [
    "import cv2\n",
    "import numpy as np\n",
    "import os\n",
    "import glob\n",
    "# チェッカーボードの定義（チェッカーボードの行と列にある内部コーナーの数）\n",
    "CHECKERBOARD = (4,7) \n",
    "\n",
    "# コーナー検出のための反復アルゴリズムの終了条件\n",
    "criteria = (cv2.TERM_CRITERIA_EPS + cv2.TERM_CRITERIA_MAX_ITER, 30, 0.001)\n",
    "\n",
    "# 各チェッカーボード画像の3Dポイントを保存する配列\n",
    "objpoints = []\n",
    "# 各チェッカーボード画像の2Dポイントを保存する配列\n",
    "imgpoints = [] \n",
    "# 3Dポイント座標定義\n",
    "objp = np.zeros((1, CHECKERBOARD[0] * CHECKERBOARD[1], 3), np.float32)\n",
    "objp[0,:,:2] = np.mgrid[0:CHECKERBOARD[0], 0:CHECKERBOARD[1]].T.reshape(-1, 2)\n",
    "prev_img_shape = None\n",
    "\n",
    "# 指定されたディレクトリにある画像のパスを取得します\n",
    "images = glob.glob('./ConvertedIMG/*.jpg')\n",
    "for fname in images:\n",
    "    img = cv2.imread(fname)\n",
    "    # グレースケールに変換\n",
    "    gray = cv2.cvtColor(img,cv2.COLOR_BGR2GRAY)\n",
    "    # コーナー検出 ret = true\n",
    "    ret, corners = cv2.findChessboardCorners(gray,\n",
    "                                             CHECKERBOARD,\n",
    "                                             cv2.CALIB_CB_ADAPTIVE_THRESH + cv2.CALIB_CB_FAST_CHECK + cv2.CALIB_CB_NORMALIZE_IMAGE)\n",
    "    \n",
    "    # コーナーが検出された場合、以下の処理を行う\n",
    "    if ret == True:\n",
    "        objpoints.append(objp)\n",
    "\n",
    "        # 検出されたコーナーの精度を向上\n",
    "        corners2 = cv2.cornerSubPix(gray, corners, (11,11),(-1,-1), criteria)\n",
    "        imgpoints.append(corners2)\n",
    "\n",
    "        # コーナーを画像に描画し、表示\n",
    "        img = cv2.drawChessboardCorners(img, CHECKERBOARD, corners2, ret)\n",
    "    cv2.imshow('img',img)\n",
    "    cv2.waitKey(0)\n",
    "cv2.destroyAllWindows()\n",
    "h,w = img.shape[:2] # 480, 640\n",
    "# カメラキャリブレーションを行い、カメラマトリックス、歪み係数などを取得\n",
    "ret, mtx, dist, rvecs, tvecs = cv2.calibrateCamera(objpoints, imgpoints, gray.shape[::-1], None, None)"
   ]
  },
  {
   "cell_type": "code",
   "execution_count": null,
   "metadata": {},
   "outputs": [],
   "source": [
    "print(\"Camera matrix : \\n\") #カメラマトリックス\n",
    "print(mtx)"
   ]
  },
  {
   "cell_type": "code",
   "execution_count": null,
   "metadata": {},
   "outputs": [],
   "source": [
    "print(\"dist : \\n\") #レンズ歪み\n",
    "print(dist)"
   ]
  },
  {
   "cell_type": "code",
   "execution_count": null,
   "metadata": {},
   "outputs": [],
   "source": [
    "print(\"rvecs : \\n\") #回転ベクトル\n",
    "print(rvecs)"
   ]
  },
  {
   "cell_type": "code",
   "execution_count": null,
   "metadata": {},
   "outputs": [],
   "source": [
    "print(\"tvecs : \\n\") #移動ベクトル\n",
    "print(tvecs)"
   ]
  },
  {
   "cell_type": "code",
   "execution_count": null,
   "metadata": {},
   "outputs": [],
   "source": [
    "np.save(\"mtx\", mtx) # カメラ行列セーブ\n",
    "np.save(\"dist\", dist.ravel()) # 歪みパラメータセーブ"
   ]
  },
  {
   "cell_type": "code",
   "execution_count": null,
   "metadata": {},
   "outputs": [],
   "source": [
    "newcameramtx, roi = cv2.getOptimalNewCameraMatrix(mtx, dist, (w, h), 1)\n",
    "dst2 = cv2.undistort(img, mtx, dist, None, newcameramtx) ## 適用後のイメージ\n",
    "cv2.imshow('num2', dst2)\n",
    "cv2.waitKey(0)\n",
    "cv2.destroyAllWindows()"
   ]
  }
 ],
 "metadata": {
  "kernelspec": {
   "display_name": "venv",
   "language": "python",
   "name": "python3"
  },
  "language_info": {
   "codemirror_mode": {
    "name": "ipython",
    "version": 3
   },
   "file_extension": ".py",
   "mimetype": "text/x-python",
   "name": "python",
   "nbconvert_exporter": "python",
   "pygments_lexer": "ipython3",
   "version": "3.11.3"
  }
 },
 "nbformat": 4,
 "nbformat_minor": 2
}
